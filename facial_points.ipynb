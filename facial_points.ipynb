{
  "nbformat": 4,
  "nbformat_minor": 0,
  "metadata": {
    "colab": {
      "name": "facial points.ipynb",
      "version": "0.3.2",
      "provenance": [],
      "collapsed_sections": [],
      "include_colab_link": true
    },
    "kernelspec": {
      "name": "python3",
      "display_name": "Python 3"
    },
    "accelerator": "GPU"
  },
  "cells": [
    {
      "cell_type": "markdown",
      "metadata": {
        "id": "view-in-github",
        "colab_type": "text"
      },
      "source": [
        "<a href=\"https://colab.research.google.com/github/Ammulya/Facial-Keypoint-detection/blob/master/facial_points.ipynb\" target=\"_parent\"><img src=\"https://colab.research.google.com/assets/colab-badge.svg\" alt=\"Open In Colab\"/></a>"
      ]
    },
    {
      "cell_type": "code",
      "metadata": {
        "id": "nrdO_CzV2SKq",
        "colab_type": "code",
        "outputId": "f0013431-2490-4e46-c048-c2177066441e",
        "colab": {
          "base_uri": "https://localhost:8080/",
          "height": 122
        }
      },
      "source": [
        "from google.colab import drive\n",
        "drive.mount('/drive/')"
      ],
      "execution_count": 0,
      "outputs": [
        {
          "output_type": "stream",
          "text": [
            "Go to this URL in a browser: https://accounts.google.com/o/oauth2/auth?client_id=947318989803-6bn6qk8qdgf4n4g3pfee6491hc0brc4i.apps.googleusercontent.com&redirect_uri=urn%3Aietf%3Awg%3Aoauth%3A2.0%3Aoob&scope=email%20https%3A%2F%2Fwww.googleapis.com%2Fauth%2Fdocs.test%20https%3A%2F%2Fwww.googleapis.com%2Fauth%2Fdrive%20https%3A%2F%2Fwww.googleapis.com%2Fauth%2Fdrive.photos.readonly%20https%3A%2F%2Fwww.googleapis.com%2Fauth%2Fpeopleapi.readonly&response_type=code\n",
            "\n",
            "Enter your authorization code:\n",
            "··········\n",
            "Mounted at /drive/\n"
          ],
          "name": "stdout"
        }
      ]
    },
    {
      "cell_type": "code",
      "metadata": {
        "id": "QxEGF9xf5XRq",
        "colab_type": "code",
        "colab": {}
      },
      "source": [
        "import os\n",
        "os.chdir('/drive/My Drive/PROJECTS')"
      ],
      "execution_count": 0,
      "outputs": []
    },
    {
      "cell_type": "code",
      "metadata": {
        "id": "J3tmNaF55XMu",
        "colab_type": "code",
        "colab": {}
      },
      "source": [
        "#Import the all the necessary libraries\n",
        "import tensorflow as tf\n",
        "import pandas as pd\n",
        "import numpy as np\n",
        "import seaborn as sns\n",
        "import matplotlib.pyplot as plt\n",
        "import cv2\n",
        "%matplotlib inline\n",
        "from tensorflow.keras.layers import Dense\n",
        "from sklearn.model_selection import train_test_split"
      ],
      "execution_count": 0,
      "outputs": []
    },
    {
      "cell_type": "code",
      "metadata": {
        "id": "1_DJE5ut6c6M",
        "colab_type": "code",
        "outputId": "53671404-b0eb-4714-efaa-790712997d3e",
        "colab": {
          "base_uri": "https://localhost:8080/",
          "height": 1159
        }
      },
      "source": [
        "#Load the data \n",
        "data = pd.read_csv('./Facial points/training.csv')\n",
        "\n",
        "data.head()"
      ],
      "execution_count": 0,
      "outputs": [
        {
          "output_type": "execute_result",
          "data": {
            "text/html": [
              "<div>\n",
              "<style scoped>\n",
              "    .dataframe tbody tr th:only-of-type {\n",
              "        vertical-align: middle;\n",
              "    }\n",
              "\n",
              "    .dataframe tbody tr th {\n",
              "        vertical-align: top;\n",
              "    }\n",
              "\n",
              "    .dataframe thead th {\n",
              "        text-align: right;\n",
              "    }\n",
              "</style>\n",
              "<table border=\"1\" class=\"dataframe\">\n",
              "  <thead>\n",
              "    <tr style=\"text-align: right;\">\n",
              "      <th></th>\n",
              "      <th>left_eye_center_x</th>\n",
              "      <th>left_eye_center_y</th>\n",
              "      <th>right_eye_center_x</th>\n",
              "      <th>right_eye_center_y</th>\n",
              "      <th>left_eye_inner_corner_x</th>\n",
              "      <th>left_eye_inner_corner_y</th>\n",
              "      <th>left_eye_outer_corner_x</th>\n",
              "      <th>left_eye_outer_corner_y</th>\n",
              "      <th>right_eye_inner_corner_x</th>\n",
              "      <th>right_eye_inner_corner_y</th>\n",
              "      <th>right_eye_outer_corner_x</th>\n",
              "      <th>right_eye_outer_corner_y</th>\n",
              "      <th>left_eyebrow_inner_end_x</th>\n",
              "      <th>left_eyebrow_inner_end_y</th>\n",
              "      <th>left_eyebrow_outer_end_x</th>\n",
              "      <th>left_eyebrow_outer_end_y</th>\n",
              "      <th>right_eyebrow_inner_end_x</th>\n",
              "      <th>right_eyebrow_inner_end_y</th>\n",
              "      <th>right_eyebrow_outer_end_x</th>\n",
              "      <th>right_eyebrow_outer_end_y</th>\n",
              "      <th>nose_tip_x</th>\n",
              "      <th>nose_tip_y</th>\n",
              "      <th>mouth_left_corner_x</th>\n",
              "      <th>mouth_left_corner_y</th>\n",
              "      <th>mouth_right_corner_x</th>\n",
              "      <th>mouth_right_corner_y</th>\n",
              "      <th>mouth_center_top_lip_x</th>\n",
              "      <th>mouth_center_top_lip_y</th>\n",
              "      <th>mouth_center_bottom_lip_x</th>\n",
              "      <th>mouth_center_bottom_lip_y</th>\n",
              "      <th>Image</th>\n",
              "    </tr>\n",
              "  </thead>\n",
              "  <tbody>\n",
              "    <tr>\n",
              "      <th>0</th>\n",
              "      <td>66.033564</td>\n",
              "      <td>39.002274</td>\n",
              "      <td>30.227008</td>\n",
              "      <td>36.421678</td>\n",
              "      <td>59.582075</td>\n",
              "      <td>39.647423</td>\n",
              "      <td>73.130346</td>\n",
              "      <td>39.969997</td>\n",
              "      <td>36.356571</td>\n",
              "      <td>37.389402</td>\n",
              "      <td>23.452872</td>\n",
              "      <td>37.389402</td>\n",
              "      <td>56.953263</td>\n",
              "      <td>29.033648</td>\n",
              "      <td>80.227128</td>\n",
              "      <td>32.228138</td>\n",
              "      <td>40.227609</td>\n",
              "      <td>29.002322</td>\n",
              "      <td>16.356379</td>\n",
              "      <td>29.647471</td>\n",
              "      <td>44.420571</td>\n",
              "      <td>57.066803</td>\n",
              "      <td>61.195308</td>\n",
              "      <td>79.970165</td>\n",
              "      <td>28.614496</td>\n",
              "      <td>77.388992</td>\n",
              "      <td>43.312602</td>\n",
              "      <td>72.935459</td>\n",
              "      <td>43.130707</td>\n",
              "      <td>84.485774</td>\n",
              "      <td>238 236 237 238 240 240 239 241 241 243 240 23...</td>\n",
              "    </tr>\n",
              "    <tr>\n",
              "      <th>1</th>\n",
              "      <td>64.332936</td>\n",
              "      <td>34.970077</td>\n",
              "      <td>29.949277</td>\n",
              "      <td>33.448715</td>\n",
              "      <td>58.856170</td>\n",
              "      <td>35.274349</td>\n",
              "      <td>70.722723</td>\n",
              "      <td>36.187166</td>\n",
              "      <td>36.034723</td>\n",
              "      <td>34.361532</td>\n",
              "      <td>24.472511</td>\n",
              "      <td>33.144443</td>\n",
              "      <td>53.987404</td>\n",
              "      <td>28.275949</td>\n",
              "      <td>78.634213</td>\n",
              "      <td>30.405923</td>\n",
              "      <td>42.728851</td>\n",
              "      <td>26.146043</td>\n",
              "      <td>16.865362</td>\n",
              "      <td>27.058860</td>\n",
              "      <td>48.206298</td>\n",
              "      <td>55.660936</td>\n",
              "      <td>56.421447</td>\n",
              "      <td>76.352000</td>\n",
              "      <td>35.122383</td>\n",
              "      <td>76.047660</td>\n",
              "      <td>46.684596</td>\n",
              "      <td>70.266553</td>\n",
              "      <td>45.467915</td>\n",
              "      <td>85.480170</td>\n",
              "      <td>219 215 204 196 204 211 212 200 180 168 178 19...</td>\n",
              "    </tr>\n",
              "    <tr>\n",
              "      <th>2</th>\n",
              "      <td>65.057053</td>\n",
              "      <td>34.909642</td>\n",
              "      <td>30.903789</td>\n",
              "      <td>34.909642</td>\n",
              "      <td>59.412000</td>\n",
              "      <td>36.320968</td>\n",
              "      <td>70.984421</td>\n",
              "      <td>36.320968</td>\n",
              "      <td>37.678105</td>\n",
              "      <td>36.320968</td>\n",
              "      <td>24.976421</td>\n",
              "      <td>36.603221</td>\n",
              "      <td>55.742526</td>\n",
              "      <td>27.570947</td>\n",
              "      <td>78.887368</td>\n",
              "      <td>32.651621</td>\n",
              "      <td>42.193895</td>\n",
              "      <td>28.135453</td>\n",
              "      <td>16.791158</td>\n",
              "      <td>32.087116</td>\n",
              "      <td>47.557263</td>\n",
              "      <td>53.538947</td>\n",
              "      <td>60.822947</td>\n",
              "      <td>73.014316</td>\n",
              "      <td>33.726316</td>\n",
              "      <td>72.732000</td>\n",
              "      <td>47.274947</td>\n",
              "      <td>70.191789</td>\n",
              "      <td>47.274947</td>\n",
              "      <td>78.659368</td>\n",
              "      <td>144 142 159 180 188 188 184 180 167 132 84 59 ...</td>\n",
              "    </tr>\n",
              "    <tr>\n",
              "      <th>3</th>\n",
              "      <td>65.225739</td>\n",
              "      <td>37.261774</td>\n",
              "      <td>32.023096</td>\n",
              "      <td>37.261774</td>\n",
              "      <td>60.003339</td>\n",
              "      <td>39.127179</td>\n",
              "      <td>72.314713</td>\n",
              "      <td>38.380967</td>\n",
              "      <td>37.618643</td>\n",
              "      <td>38.754115</td>\n",
              "      <td>25.307270</td>\n",
              "      <td>38.007903</td>\n",
              "      <td>56.433809</td>\n",
              "      <td>30.929864</td>\n",
              "      <td>77.910261</td>\n",
              "      <td>31.665725</td>\n",
              "      <td>41.671513</td>\n",
              "      <td>31.049990</td>\n",
              "      <td>20.458017</td>\n",
              "      <td>29.909343</td>\n",
              "      <td>51.885078</td>\n",
              "      <td>54.166539</td>\n",
              "      <td>65.598887</td>\n",
              "      <td>72.703722</td>\n",
              "      <td>37.245496</td>\n",
              "      <td>74.195478</td>\n",
              "      <td>50.303165</td>\n",
              "      <td>70.091687</td>\n",
              "      <td>51.561183</td>\n",
              "      <td>78.268383</td>\n",
              "      <td>193 192 193 194 194 194 193 192 168 111 50 12 ...</td>\n",
              "    </tr>\n",
              "    <tr>\n",
              "      <th>4</th>\n",
              "      <td>66.725301</td>\n",
              "      <td>39.621261</td>\n",
              "      <td>32.244810</td>\n",
              "      <td>38.042032</td>\n",
              "      <td>58.565890</td>\n",
              "      <td>39.621261</td>\n",
              "      <td>72.515926</td>\n",
              "      <td>39.884466</td>\n",
              "      <td>36.982380</td>\n",
              "      <td>39.094852</td>\n",
              "      <td>22.506110</td>\n",
              "      <td>38.305237</td>\n",
              "      <td>57.249571</td>\n",
              "      <td>30.672177</td>\n",
              "      <td>77.762945</td>\n",
              "      <td>31.737247</td>\n",
              "      <td>38.035436</td>\n",
              "      <td>30.935382</td>\n",
              "      <td>15.925870</td>\n",
              "      <td>30.672177</td>\n",
              "      <td>43.299534</td>\n",
              "      <td>64.889521</td>\n",
              "      <td>60.671411</td>\n",
              "      <td>77.523239</td>\n",
              "      <td>31.191755</td>\n",
              "      <td>76.997301</td>\n",
              "      <td>44.962748</td>\n",
              "      <td>73.707387</td>\n",
              "      <td>44.227141</td>\n",
              "      <td>86.871166</td>\n",
              "      <td>147 148 160 196 215 214 216 217 219 220 206 18...</td>\n",
              "    </tr>\n",
              "  </tbody>\n",
              "</table>\n",
              "</div>"
            ],
            "text/plain": [
              "   left_eye_center_x  ...                                              Image\n",
              "0          66.033564  ...  238 236 237 238 240 240 239 241 241 243 240 23...\n",
              "1          64.332936  ...  219 215 204 196 204 211 212 200 180 168 178 19...\n",
              "2          65.057053  ...  144 142 159 180 188 188 184 180 167 132 84 59 ...\n",
              "3          65.225739  ...  193 192 193 194 194 194 193 192 168 111 50 12 ...\n",
              "4          66.725301  ...  147 148 160 196 215 214 216 217 219 220 206 18...\n",
              "\n",
              "[5 rows x 31 columns]"
            ]
          },
          "metadata": {
            "tags": []
          },
          "execution_count": 4
        }
      ]
    },
    {
      "cell_type": "markdown",
      "metadata": {
        "id": "Sf_OoHTmqUZX",
        "colab_type": "text"
      },
      "source": [
        "## Data Preprocessing"
      ]
    },
    {
      "cell_type": "code",
      "metadata": {
        "id": "FvnlCeVH65wL",
        "colab_type": "code",
        "outputId": "f74b76f1-edd4-412b-dc7e-d1cd15b05890",
        "colab": {
          "base_uri": "https://localhost:8080/",
          "height": 238
        }
      },
      "source": [
        "#Check the any missing and null values in the dataFrame\n",
        "data.isnull().sum().value_counts()"
      ],
      "execution_count": 0,
      "outputs": [
        {
          "output_type": "execute_result",
          "data": {
            "text/plain": [
              "4779    6\n",
              "4781    4\n",
              "0       3\n",
              "4813    2\n",
              "4824    2\n",
              "4778    2\n",
              "4782    2\n",
              "13      2\n",
              "4780    2\n",
              "10      2\n",
              "4774    2\n",
              "33      2\n",
              "dtype: int64"
            ]
          },
          "metadata": {
            "tags": []
          },
          "execution_count": 5
        }
      ]
    },
    {
      "cell_type": "code",
      "metadata": {
        "id": "ELuXqifY6f45",
        "colab_type": "code",
        "outputId": "4565c9c2-ec8e-4793-cf5f-66254ad98e97",
        "colab": {
          "base_uri": "https://localhost:8080/",
          "height": 629
        }
      },
      "source": [
        "# It will give you all the null values list with each column\n",
        "data.info()"
      ],
      "execution_count": 0,
      "outputs": [
        {
          "output_type": "stream",
          "text": [
            "<class 'pandas.core.frame.DataFrame'>\n",
            "RangeIndex: 7049 entries, 0 to 7048\n",
            "Data columns (total 31 columns):\n",
            "left_eye_center_x            7039 non-null float64\n",
            "left_eye_center_y            7039 non-null float64\n",
            "right_eye_center_x           7036 non-null float64\n",
            "right_eye_center_y           7036 non-null float64\n",
            "left_eye_inner_corner_x      2271 non-null float64\n",
            "left_eye_inner_corner_y      2271 non-null float64\n",
            "left_eye_outer_corner_x      2267 non-null float64\n",
            "left_eye_outer_corner_y      2267 non-null float64\n",
            "right_eye_inner_corner_x     2268 non-null float64\n",
            "right_eye_inner_corner_y     2268 non-null float64\n",
            "right_eye_outer_corner_x     2268 non-null float64\n",
            "right_eye_outer_corner_y     2268 non-null float64\n",
            "left_eyebrow_inner_end_x     2270 non-null float64\n",
            "left_eyebrow_inner_end_y     2270 non-null float64\n",
            "left_eyebrow_outer_end_x     2225 non-null float64\n",
            "left_eyebrow_outer_end_y     2225 non-null float64\n",
            "right_eyebrow_inner_end_x    2270 non-null float64\n",
            "right_eyebrow_inner_end_y    2270 non-null float64\n",
            "right_eyebrow_outer_end_x    2236 non-null float64\n",
            "right_eyebrow_outer_end_y    2236 non-null float64\n",
            "nose_tip_x                   7049 non-null float64\n",
            "nose_tip_y                   7049 non-null float64\n",
            "mouth_left_corner_x          2269 non-null float64\n",
            "mouth_left_corner_y          2269 non-null float64\n",
            "mouth_right_corner_x         2270 non-null float64\n",
            "mouth_right_corner_y         2270 non-null float64\n",
            "mouth_center_top_lip_x       2275 non-null float64\n",
            "mouth_center_top_lip_y       2275 non-null float64\n",
            "mouth_center_bottom_lip_x    7016 non-null float64\n",
            "mouth_center_bottom_lip_y    7016 non-null float64\n",
            "Image                        7049 non-null object\n",
            "dtypes: float64(30), object(1)\n",
            "memory usage: 1.7+ MB\n"
          ],
          "name": "stdout"
        }
      ]
    },
    {
      "cell_type": "markdown",
      "metadata": {
        "id": "bOXxTehjnCWG",
        "colab_type": "text"
      },
      "source": [
        "### Handling with the missing values and null values"
      ]
    },
    {
      "cell_type": "code",
      "metadata": {
        "id": "w65a_Q44gXui",
        "colab_type": "code",
        "colab": {}
      },
      "source": [
        "#we are filling the missing values  with the mean of the data in each column\n",
        "data['left_eye_center_x'].fillna(data['left_eye_center_x'].mean(), inplace = True)\n",
        "data['left_eye_center_y'].fillna(data['left_eye_center_y'].mean(), inplace = True)\n",
        "data['right_eye_center_x'].fillna(data['right_eye_center_x'].mean(), inplace = True)\n",
        "data['right_eye_center_y'].fillna(data['right_eye_center_y'].mean(), inplace = True)"
      ],
      "execution_count": 0,
      "outputs": []
    },
    {
      "cell_type": "code",
      "metadata": {
        "id": "SNvAsbijH3vA",
        "colab_type": "code",
        "colab": {}
      },
      "source": [
        "data['left_eye_inner_corner_x'].fillna(data['left_eye_inner_corner_x'].mean(), inplace = True)\n",
        "data['left_eye_inner_corner_y'].fillna(data['left_eye_inner_corner_y'].mean(), inplace = True)\n",
        "data['left_eye_outer_corner_x'].fillna(data['left_eye_outer_corner_x'].mean(), inplace = True)\n",
        "data['left_eye_outer_corner_y'].fillna(data['left_eye_outer_corner_y'].mean(), inplace = True)\n",
        "data['right_eye_inner_corner_x'].fillna(data['right_eye_inner_corner_x'].mean(), inplace = True)\n",
        "data['right_eye_inner_corner_y'].fillna(data['right_eye_inner_corner_y'].mean(), inplace = True)\n",
        "data['right_eye_outer_corner_x'].fillna(data['right_eye_outer_corner_x'].mean(), inplace = True)\n",
        "data['right_eye_outer_corner_y'].fillna(data['right_eye_outer_corner_y'].mean(), inplace = True)\n",
        "data['left_eyebrow_inner_end_x'].fillna(data['left_eyebrow_inner_end_x'].mean(), inplace = True)\n",
        "data['left_eyebrow_inner_end_y'].fillna(data['left_eyebrow_inner_end_y'].mean(), inplace = True)\n",
        "data['left_eyebrow_outer_end_x'].fillna(data['left_eyebrow_outer_end_x'].mean(), inplace = True)\n",
        "data['left_eyebrow_outer_end_y'].fillna(data['left_eyebrow_outer_end_y'].mean(), inplace = True)\n",
        "data['right_eyebrow_inner_end_x'].fillna(data['right_eyebrow_inner_end_x'].mean(), inplace = True)\n",
        "data['right_eyebrow_inner_end_y'].fillna(data['right_eyebrow_inner_end_y'].mean(), inplace = True)\n",
        "data['right_eyebrow_outer_end_x'].fillna(data['right_eyebrow_outer_end_x'].mean(), inplace = True)\n",
        "data['right_eyebrow_outer_end_y'].fillna(data['right_eyebrow_outer_end_y'].mean(), inplace = True)"
      ],
      "execution_count": 0,
      "outputs": []
    },
    {
      "cell_type": "code",
      "metadata": {
        "id": "YSPOuwgCJVlX",
        "colab_type": "code",
        "colab": {}
      },
      "source": [
        "data['mouth_left_corner_x'].fillna(data['mouth_left_corner_x'].mean(), inplace = True)\n",
        "data['mouth_left_corner_y'].fillna(data['mouth_left_corner_y'].mean(), inplace = True)\n",
        "data['mouth_right_corner_x'].fillna(data['mouth_right_corner_x'].mean(), inplace = True)\n",
        "data['mouth_right_corner_y'].fillna(data['mouth_right_corner_y'].mean(), inplace = True)\n",
        "data['mouth_center_top_lip_x'].fillna(data['mouth_center_top_lip_x'].mean(), inplace = True)\n",
        "data['mouth_center_top_lip_y'].fillna(data['mouth_center_top_lip_y'].mean(), inplace = True)\n",
        "data['mouth_center_bottom_lip_x'].fillna(data['mouth_center_bottom_lip_x'].mean(), inplace = True)\n",
        "data['mouth_center_bottom_lip_y'].fillna(data['mouth_center_bottom_lip_y'].mean(), inplace = True)\n",
        "data['mouth_center_top_lip_x'].fillna(data['mouth_center_top_lip_x'].mean(), inplace = True)\n",
        "\n",
        "\n"
      ],
      "execution_count": 0,
      "outputs": []
    },
    {
      "cell_type": "code",
      "metadata": {
        "id": "KzyA6ObO65rw",
        "colab_type": "code",
        "outputId": "f1c25016-4d1b-47a9-a397-13b90f2e8258",
        "colab": {
          "base_uri": "https://localhost:8080/",
          "height": 629
        }
      },
      "source": [
        "#Rechecking for the null values\n",
        "#All the null values are filled,therefore no null values are found\n",
        "data.info()"
      ],
      "execution_count": 0,
      "outputs": [
        {
          "output_type": "stream",
          "text": [
            "<class 'pandas.core.frame.DataFrame'>\n",
            "RangeIndex: 7049 entries, 0 to 7048\n",
            "Data columns (total 31 columns):\n",
            "left_eye_center_x            7049 non-null float64\n",
            "left_eye_center_y            7049 non-null float64\n",
            "right_eye_center_x           7049 non-null float64\n",
            "right_eye_center_y           7049 non-null float64\n",
            "left_eye_inner_corner_x      7049 non-null float64\n",
            "left_eye_inner_corner_y      7049 non-null float64\n",
            "left_eye_outer_corner_x      7049 non-null float64\n",
            "left_eye_outer_corner_y      7049 non-null float64\n",
            "right_eye_inner_corner_x     7049 non-null float64\n",
            "right_eye_inner_corner_y     7049 non-null float64\n",
            "right_eye_outer_corner_x     7049 non-null float64\n",
            "right_eye_outer_corner_y     7049 non-null float64\n",
            "left_eyebrow_inner_end_x     7049 non-null float64\n",
            "left_eyebrow_inner_end_y     7049 non-null float64\n",
            "left_eyebrow_outer_end_x     7049 non-null float64\n",
            "left_eyebrow_outer_end_y     7049 non-null float64\n",
            "right_eyebrow_inner_end_x    7049 non-null float64\n",
            "right_eyebrow_inner_end_y    7049 non-null float64\n",
            "right_eyebrow_outer_end_x    7049 non-null float64\n",
            "right_eyebrow_outer_end_y    7049 non-null float64\n",
            "nose_tip_x                   7049 non-null float64\n",
            "nose_tip_y                   7049 non-null float64\n",
            "mouth_left_corner_x          7049 non-null float64\n",
            "mouth_left_corner_y          7049 non-null float64\n",
            "mouth_right_corner_x         7049 non-null float64\n",
            "mouth_right_corner_y         7049 non-null float64\n",
            "mouth_center_top_lip_x       7049 non-null float64\n",
            "mouth_center_top_lip_y       7049 non-null float64\n",
            "mouth_center_bottom_lip_x    7049 non-null float64\n",
            "mouth_center_bottom_lip_y    7049 non-null float64\n",
            "Image                        7049 non-null object\n",
            "dtypes: float64(30), object(1)\n",
            "memory usage: 1.7+ MB\n"
          ],
          "name": "stdout"
        }
      ]
    },
    {
      "cell_type": "code",
      "metadata": {
        "id": "2aMjokHngofD",
        "colab_type": "code",
        "outputId": "e8c52f61-f566-42e5-a498-17796d65e1d7",
        "colab": {
          "base_uri": "https://localhost:8080/",
          "height": 272
        }
      },
      "source": [
        "#checking  for  names of the columns  in dataframe\n",
        "data.keys()"
      ],
      "execution_count": 0,
      "outputs": [
        {
          "output_type": "execute_result",
          "data": {
            "text/plain": [
              "Index(['left_eye_center_x', 'left_eye_center_y', 'right_eye_center_x',\n",
              "       'right_eye_center_y', 'left_eye_inner_corner_x',\n",
              "       'left_eye_inner_corner_y', 'left_eye_outer_corner_x',\n",
              "       'left_eye_outer_corner_y', 'right_eye_inner_corner_x',\n",
              "       'right_eye_inner_corner_y', 'right_eye_outer_corner_x',\n",
              "       'right_eye_outer_corner_y', 'left_eyebrow_inner_end_x',\n",
              "       'left_eyebrow_inner_end_y', 'left_eyebrow_outer_end_x',\n",
              "       'left_eyebrow_outer_end_y', 'right_eyebrow_inner_end_x',\n",
              "       'right_eyebrow_inner_end_y', 'right_eyebrow_outer_end_x',\n",
              "       'right_eyebrow_outer_end_y', 'nose_tip_x', 'nose_tip_y',\n",
              "       'mouth_left_corner_x', 'mouth_left_corner_y', 'mouth_right_corner_x',\n",
              "       'mouth_right_corner_y', 'mouth_center_top_lip_x',\n",
              "       'mouth_center_top_lip_y', 'mouth_center_bottom_lip_x',\n",
              "       'mouth_center_bottom_lip_y', 'Image'],\n",
              "      dtype='object')"
            ]
          },
          "metadata": {
            "tags": []
          },
          "execution_count": 11
        }
      ]
    },
    {
      "cell_type": "markdown",
      "metadata": {
        "id": "jxIrAUBJoMB5",
        "colab_type": "text"
      },
      "source": [
        "### Now we are going to visualize the image how it actually looks from the given data"
      ]
    },
    {
      "cell_type": "code",
      "metadata": {
        "id": "cx-5pJEob82J",
        "colab_type": "code",
        "outputId": "818f3681-07a6-44f1-955f-4d4d16bea62d",
        "colab": {
          "base_uri": "https://localhost:8080/",
          "height": 272
        }
      },
      "source": [
        "#Taking the all variables with the columns except the image column\n",
        "X = data.iloc[:,:-1]\n",
        "X.keys()#Totally there are 30 keypoints"
      ],
      "execution_count": 0,
      "outputs": [
        {
          "output_type": "execute_result",
          "data": {
            "text/plain": [
              "Index(['left_eye_center_x', 'left_eye_center_y', 'right_eye_center_x',\n",
              "       'right_eye_center_y', 'left_eye_inner_corner_x',\n",
              "       'left_eye_inner_corner_y', 'left_eye_outer_corner_x',\n",
              "       'left_eye_outer_corner_y', 'right_eye_inner_corner_x',\n",
              "       'right_eye_inner_corner_y', 'right_eye_outer_corner_x',\n",
              "       'right_eye_outer_corner_y', 'left_eyebrow_inner_end_x',\n",
              "       'left_eyebrow_inner_end_y', 'left_eyebrow_outer_end_x',\n",
              "       'left_eyebrow_outer_end_y', 'right_eyebrow_inner_end_x',\n",
              "       'right_eyebrow_inner_end_y', 'right_eyebrow_outer_end_x',\n",
              "       'right_eyebrow_outer_end_y', 'nose_tip_x', 'nose_tip_y',\n",
              "       'mouth_left_corner_x', 'mouth_left_corner_y', 'mouth_right_corner_x',\n",
              "       'mouth_right_corner_y', 'mouth_center_top_lip_x',\n",
              "       'mouth_center_top_lip_y', 'mouth_center_bottom_lip_x',\n",
              "       'mouth_center_bottom_lip_y'],\n",
              "      dtype='object')"
            ]
          },
          "metadata": {
            "tags": []
          },
          "execution_count": 12
        }
      ]
    },
    {
      "cell_type": "code",
      "metadata": {
        "id": "MaZqIxplb8p3",
        "colab_type": "code",
        "colab": {}
      },
      "source": [
        "#Here we are going to take both coordinate axis from the X \n",
        "x_1 = list(X.columns)[0::2] # x-axis column with x coordinates 15keypoints for x-axis\n",
        "x_2 = list(X.columns)[1::2]#y_axis column with ycoordinates    15 keypoints for y-axis"
      ],
      "execution_count": 0,
      "outputs": []
    },
    {
      "cell_type": "code",
      "metadata": {
        "id": "FtayKOHsgvci",
        "colab_type": "code",
        "outputId": "29f85e78-4ae4-4fbe-a664-1dff4b36a398",
        "colab": {
          "base_uri": "https://localhost:8080/",
          "height": 272
        }
      },
      "source": [
        "x_2"
      ],
      "execution_count": 0,
      "outputs": [
        {
          "output_type": "execute_result",
          "data": {
            "text/plain": [
              "['left_eye_center_y',\n",
              " 'right_eye_center_y',\n",
              " 'left_eye_inner_corner_y',\n",
              " 'left_eye_outer_corner_y',\n",
              " 'right_eye_inner_corner_y',\n",
              " 'right_eye_outer_corner_y',\n",
              " 'left_eyebrow_inner_end_y',\n",
              " 'left_eyebrow_outer_end_y',\n",
              " 'right_eyebrow_inner_end_y',\n",
              " 'right_eyebrow_outer_end_y',\n",
              " 'nose_tip_y',\n",
              " 'mouth_left_corner_y',\n",
              " 'mouth_right_corner_y',\n",
              " 'mouth_center_top_lip_y',\n",
              " 'mouth_center_bottom_lip_y']"
            ]
          },
          "metadata": {
            "tags": []
          },
          "execution_count": 14
        }
      ]
    },
    {
      "cell_type": "code",
      "metadata": {
        "id": "gnvuxeNUb8dN",
        "colab_type": "code",
        "outputId": "6ed1ea63-94f0-4a00-ad1f-c495d79bdac8",
        "colab": {
          "base_uri": "https://localhost:8080/",
          "height": 272
        }
      },
      "source": [
        "x_1"
      ],
      "execution_count": 0,
      "outputs": [
        {
          "output_type": "execute_result",
          "data": {
            "text/plain": [
              "['left_eye_center_x',\n",
              " 'right_eye_center_x',\n",
              " 'left_eye_inner_corner_x',\n",
              " 'left_eye_outer_corner_x',\n",
              " 'right_eye_inner_corner_x',\n",
              " 'right_eye_outer_corner_x',\n",
              " 'left_eyebrow_inner_end_x',\n",
              " 'left_eyebrow_outer_end_x',\n",
              " 'right_eyebrow_inner_end_x',\n",
              " 'right_eyebrow_outer_end_x',\n",
              " 'nose_tip_x',\n",
              " 'mouth_left_corner_x',\n",
              " 'mouth_right_corner_x',\n",
              " 'mouth_center_top_lip_x',\n",
              " 'mouth_center_bottom_lip_x']"
            ]
          },
          "metadata": {
            "tags": []
          },
          "execution_count": 15
        }
      ]
    },
    {
      "cell_type": "code",
      "metadata": {
        "id": "fS9b-DChewhr",
        "colab_type": "code",
        "outputId": "50c51606-5943-4225-8195-d4455edebe1d",
        "colab": {
          "base_uri": "https://localhost:8080/",
          "height": 34
        }
      },
      "source": [
        "len(x_1),len(x_2)"
      ],
      "execution_count": 0,
      "outputs": [
        {
          "output_type": "execute_result",
          "data": {
            "text/plain": [
              "(15, 15)"
            ]
          },
          "metadata": {
            "tags": []
          },
          "execution_count": 16
        }
      ]
    },
    {
      "cell_type": "code",
      "metadata": {
        "id": "NkT2Oh7FOvix",
        "colab_type": "code",
        "colab": {}
      },
      "source": [
        "#Splitting the Image column as it is a string \n",
        "imag = []\n",
        "for i in range(0,7049):\n",
        "    img = data['Image'][i].split(' ')\n",
        "    img = ['0' if x == '' else x for x in img]\n",
        "    imag.append(img)"
      ],
      "execution_count": 0,
      "outputs": []
    },
    {
      "cell_type": "code",
      "metadata": {
        "id": "jfUHS1yXPMmN",
        "colab_type": "code",
        "outputId": "15aea1a7-2e65-42ec-91b2-32d1114315d7",
        "colab": {
          "base_uri": "https://localhost:8080/",
          "height": 34
        }
      },
      "source": [
        "#convert to numpy array\n",
        "image_list = np.array(imag,dtype = 'float')\n",
        "image_list.shape\n"
      ],
      "execution_count": 0,
      "outputs": [
        {
          "output_type": "execute_result",
          "data": {
            "text/plain": [
              "(7049, 9216)"
            ]
          },
          "metadata": {
            "tags": []
          },
          "execution_count": 18
        }
      ]
    },
    {
      "cell_type": "code",
      "metadata": {
        "id": "WlK6Fx6xfQMI",
        "colab_type": "code",
        "outputId": "b6e7fa6d-83aa-41fc-8f18-2ed0605823ca",
        "colab": {
          "base_uri": "https://localhost:8080/",
          "height": 34
        }
      },
      "source": [
        "#storing a variable and reshaping the images list\n",
        "x= image_list.reshape(-1,96,96)#It is the independent variables/Inputs\n",
        "x.shape"
      ],
      "execution_count": 0,
      "outputs": [
        {
          "output_type": "execute_result",
          "data": {
            "text/plain": [
              "(7049, 96, 96)"
            ]
          },
          "metadata": {
            "tags": []
          },
          "execution_count": 19
        }
      ]
    },
    {
      "cell_type": "code",
      "metadata": {
        "id": "nBGu30vXyxNR",
        "colab_type": "code",
        "outputId": "3e683ff1-556d-465c-ee4c-e9694254a7d6",
        "colab": {
          "base_uri": "https://localhost:8080/",
          "height": 177
        }
      },
      "source": [
        "#plotting all the keypoints on the image \n",
        "plt.figure(figsize=(2,2))\n",
        "plt.imshow(x[0])\n",
        "plt.plot((X[x_1].T[0]),(X[x_2].T[0]),'.',color='red')\n",
        "plt.axis('off')\n",
        "#This is how the Image with the keypoints look in the given data"
      ],
      "execution_count": 0,
      "outputs": [
        {
          "output_type": "execute_result",
          "data": {
            "text/plain": [
              "(-0.5, 95.5, 95.5, -0.5)"
            ]
          },
          "metadata": {
            "tags": []
          },
          "execution_count": 48
        },
        {
          "output_type": "display_data",
          "data": {
            "image/png": "[encoded data removed]",
            "text/plain": [
              "<Figure size 144x144 with 1 Axes>"
            ]
          },
          "metadata": {
            "tags": []
          }
        }
      ]
    },
    {
      "cell_type": "markdown",
      "metadata": {
        "id": "R48PkehuqFV6",
        "colab_type": "text"
      },
      "source": [
        "## Going for data training and testing:"
      ]
    },
    {
      "cell_type": "code",
      "metadata": {
        "id": "684siGyl3C4C",
        "colab_type": "code",
        "colab": {}
      },
      "source": [
        "train= data.drop('Image',axis = 1)\n",
        "\n",
        "y_1 = []\n",
        "for i in range(0,7049):\n",
        "    y = train.iloc[i,:]\n",
        "\n",
        "    y_1.append(y)\n",
        "y_1 = np.array(y_1,dtype = 'float')"
      ],
      "execution_count": 0,
      "outputs": []
    },
    {
      "cell_type": "code",
      "metadata": {
        "id": "CimCnvS1hW8y",
        "colab_type": "code",
        "outputId": "6a8b69f7-76e1-4e0f-d116-b53c186e1aad",
        "colab": {
          "base_uri": "https://localhost:8080/",
          "height": 34
        }
      },
      "source": [
        "#dependent variable(output)\n",
        "y_1.shape"
      ],
      "execution_count": 0,
      "outputs": [
        {
          "output_type": "execute_result",
          "data": {
            "text/plain": [
              "(7049, 30)"
            ]
          },
          "metadata": {
            "tags": []
          },
          "execution_count": 22
        }
      ]
    },
    {
      "cell_type": "code",
      "metadata": {
        "id": "FUKUMfsOa7DA",
        "colab_type": "code",
        "outputId": "4ced0de9-f62e-4236-d3d2-ee65a1c6cf44",
        "colab": {
          "base_uri": "https://localhost:8080/",
          "height": 34
        }
      },
      "source": [
        "type(y_1)"
      ],
      "execution_count": 0,
      "outputs": [
        {
          "output_type": "execute_result",
          "data": {
            "text/plain": [
              "numpy.ndarray"
            ]
          },
          "metadata": {
            "tags": []
          },
          "execution_count": 23
        }
      ]
    },
    {
      "cell_type": "code",
      "metadata": {
        "id": "4063dytWkSaU",
        "colab_type": "code",
        "outputId": "dfdca442-69e5-4a97-a20a-c9e689fad979",
        "colab": {
          "base_uri": "https://localhost:8080/",
          "height": 34
        }
      },
      "source": [
        "#reshaped the independent variable to 4D (as it is colored image)\n",
        "x_t =x.reshape(-1,96,96,1)\n",
        "x_t.shape"
      ],
      "execution_count": 0,
      "outputs": [
        {
          "output_type": "execute_result",
          "data": {
            "text/plain": [
              "(7049, 96, 96, 1)"
            ]
          },
          "metadata": {
            "tags": []
          },
          "execution_count": 24
        }
      ]
    },
    {
      "cell_type": "markdown",
      "metadata": {
        "id": "ejiFevghrKet",
        "colab_type": "text"
      },
      "source": [
        "## splitting the data into train and test"
      ]
    },
    {
      "cell_type": "code",
      "metadata": {
        "id": "KZRGPRc-6c0K",
        "colab_type": "code",
        "colab": {}
      },
      "source": [
        "x_train, x_test,y_train,y_test = train_test_split(x_t,y_1,test_size = 0.3)"
      ],
      "execution_count": 0,
      "outputs": []
    },
    {
      "cell_type": "markdown",
      "metadata": {
        "id": "dMxXIKn41BNx",
        "colab_type": "text"
      },
      "source": [
        ""
      ]
    },
    {
      "cell_type": "code",
      "metadata": {
        "id": "yTrbE2tW6cjH",
        "colab_type": "code",
        "outputId": "be8acae1-4fc9-46d8-c3e7-4b2ab40e70db",
        "colab": {
          "base_uri": "https://localhost:8080/",
          "height": 34
        }
      },
      "source": [
        "x_train.shape,y_train.shape,x_test.shape,y_test.shape"
      ],
      "execution_count": 0,
      "outputs": [
        {
          "output_type": "execute_result",
          "data": {
            "text/plain": [
              "((4934, 96, 96, 1), (4934, 30), (2115, 96, 96, 1), (2115, 30))"
            ]
          },
          "metadata": {
            "tags": []
          },
          "execution_count": 26
        }
      ]
    },
    {
      "cell_type": "markdown",
      "metadata": {
        "id": "QqqmTz8qregu",
        "colab_type": "text"
      },
      "source": [
        "## Applying the CNN model\n",
        "CNN - - Convolution neural network"
      ]
    },
    {
      "cell_type": "code",
      "metadata": {
        "id": "vYjLQqVhlsXl",
        "colab_type": "code",
        "outputId": "aa76bfeb-600f-4ec7-e508-6c4431176fc8",
        "colab": {
          "base_uri": "https://localhost:8080/",
          "height": 105
        }
      },
      "source": [
        "#Importing different modules required from keras\n",
        "from keras.layers import Conv2D,Dropout,Dense,Flatten,MaxPool2D\n",
        "from keras.models import Sequential\n",
        "\n",
        "model = Sequential()\n",
        "# Convolution Process\n",
        "model.add(Conv2D(input_shape=(96,96,1),filters=16,kernel_size=(3,3),strides=(1,1),activation='relu',padding='SAME'))\n",
        "model.add(MaxPool2D(pool_size=(2,2)))\n",
        "#adding kernels\n",
        "model.add(Conv2D(filters=32,kernel_size=(3,3),strides=(1,1),activation='relu',padding='SAME'))\n",
        "model.add(MaxPool2D(pool_size=(2)))\n",
        "\n",
        "model.add(Conv2D(filters=64,kernel_size=(3,3),strides=(1,1),activation='relu',padding='SAME'))\n",
        "model.add(MaxPool2D(pool_size=(2)))\n",
        "\n",
        "model.add(Conv2D(filters=128,kernel_size=(3,3),strides=(1,1),activation='relu',padding='SAME'))\n",
        "model.add(MaxPool2D(pool_size=(2)))\n",
        "\n",
        "model.add(Conv2D(filters=128,kernel_size=(3,3),strides=(1,1),activation='relu',padding='SAME'))\n",
        "model.add(MaxPool2D(pool_size=(2)))\n",
        "\n",
        "\n",
        "model.add(Flatten()) # input to neural network\n",
        "model.add(Dense(512,activation='relu')) # Layer1\n",
        "model.add(Dense(30))"
      ],
      "execution_count": 0,
      "outputs": [
        {
          "output_type": "stream",
          "text": [
            "WARNING:tensorflow:From /usr/local/lib/python3.6/dist-packages/tensorflow/python/framework/op_def_library.py:263: colocate_with (from tensorflow.python.framework.ops) is deprecated and will be removed in a future version.\n",
            "Instructions for updating:\n",
            "Colocations handled automatically by placer.\n"
          ],
          "name": "stdout"
        },
        {
          "output_type": "stream",
          "text": [
            "Using TensorFlow backend.\n"
          ],
          "name": "stderr"
        }
      ]
    },
    {
      "cell_type": "code",
      "metadata": {
        "id": "GWNkeHLNkplO",
        "colab_type": "code",
        "colab": {}
      },
      "source": [
        "#applying the optimizer for the support\n",
        "model.compile(optimizer='adam', \n",
        "              loss='mean_squared_error',\n",
        "              metrics=['mae','accuracy'])"
      ],
      "execution_count": 0,
      "outputs": []
    },
    {
      "cell_type": "code",
      "metadata": {
        "id": "10wT7FuX1Mpi",
        "colab_type": "code",
        "outputId": "1d9c4f64-1d65-42dc-b22e-69be73e4682f",
        "colab": {
          "base_uri": "https://localhost:8080/",
          "height": 1805
        }
      },
      "source": [
        "#Fit the model to data\n",
        "model_1 = model.fit(x=x_train,y=y_train,batch_size=256,validation_data=[x_test,y_test],epochs=50)"
      ],
      "execution_count": 0,
      "outputs": [
        {
          "output_type": "stream",
          "text": [
            "WARNING:tensorflow:From /usr/local/lib/python3.6/dist-packages/tensorflow/python/ops/math_ops.py:3066: to_int32 (from tensorflow.python.ops.math_ops) is deprecated and will be removed in a future version.\n",
            "Instructions for updating:\n",
            "Use tf.cast instead.\n",
            "Train on 4934 samples, validate on 2115 samples\n",
            "Epoch 1/50\n",
            "4934/4934 [==============================] - 9s 2ms/step - loss: 715.8333 - mean_absolute_error: 20.8414 - acc: 0.4313 - val_loss: 161.2562 - val_mean_absolute_error: 10.1055 - val_acc: 0.4350\n",
            "Epoch 2/50\n",
            "4934/4934 [==============================] - 2s 431us/step - loss: 127.0192 - mean_absolute_error: 8.6597 - acc: 0.4335 - val_loss: 100.5073 - val_mean_absolute_error: 7.4349 - val_acc: 0.4293\n",
            "Epoch 3/50\n",
            "4934/4934 [==============================] - 2s 433us/step - loss: 101.5729 - mean_absolute_error: 7.5263 - acc: 0.5051 - val_loss: 89.2847 - val_mean_absolute_error: 7.0828 - val_acc: 0.5664\n",
            "Epoch 4/50\n",
            "4934/4934 [==============================] - 2s 434us/step - loss: 94.3183 - mean_absolute_error: 7.2479 - acc: 0.5389 - val_loss: 86.1340 - val_mean_absolute_error: 6.9411 - val_acc: 0.5641\n",
            "Epoch 5/50\n",
            "4934/4934 [==============================] - 2s 434us/step - loss: 88.2974 - mean_absolute_error: 6.9967 - acc: 0.5592 - val_loss: 82.4775 - val_mean_absolute_error: 6.8331 - val_acc: 0.5707\n",
            "Epoch 6/50\n",
            "4934/4934 [==============================] - 2s 434us/step - loss: 83.2777 - mean_absolute_error: 6.7950 - acc: 0.5586 - val_loss: 77.1489 - val_mean_absolute_error: 6.6164 - val_acc: 0.5745\n",
            "Epoch 7/50\n",
            "4934/4934 [==============================] - 2s 433us/step - loss: 76.7742 - mean_absolute_error: 6.5529 - acc: 0.5713 - val_loss: 72.1500 - val_mean_absolute_error: 6.2879 - val_acc: 0.5645\n",
            "Epoch 8/50\n",
            "4934/4934 [==============================] - 2s 437us/step - loss: 70.7471 - mean_absolute_error: 6.2825 - acc: 0.5774 - val_loss: 65.8462 - val_mean_absolute_error: 6.0965 - val_acc: 0.5716\n",
            "Epoch 9/50\n",
            "4934/4934 [==============================] - 2s 440us/step - loss: 67.8445 - mean_absolute_error: 6.1387 - acc: 0.5874 - val_loss: 67.7869 - val_mean_absolute_error: 6.0123 - val_acc: 0.5730\n",
            "Epoch 10/50\n",
            "4934/4934 [==============================] - 2s 433us/step - loss: 63.0878 - mean_absolute_error: 5.8816 - acc: 0.5750 - val_loss: 73.2148 - val_mean_absolute_error: 6.5850 - val_acc: 0.5839\n",
            "Epoch 11/50\n",
            "4934/4934 [==============================] - 2s 433us/step - loss: 61.5262 - mean_absolute_error: 5.8218 - acc: 0.5742 - val_loss: 58.7429 - val_mean_absolute_error: 5.7695 - val_acc: 0.5565\n",
            "Epoch 12/50\n",
            "4934/4934 [==============================] - 2s 435us/step - loss: 55.7777 - mean_absolute_error: 5.5090 - acc: 0.5855 - val_loss: 56.0072 - val_mean_absolute_error: 5.6024 - val_acc: 0.5797\n",
            "Epoch 13/50\n",
            "4934/4934 [==============================] - 2s 433us/step - loss: 51.6159 - mean_absolute_error: 5.2817 - acc: 0.5926 - val_loss: 82.4711 - val_mean_absolute_error: 7.0423 - val_acc: 0.5948\n",
            "Epoch 14/50\n",
            "4934/4934 [==============================] - 2s 433us/step - loss: 62.4747 - mean_absolute_error: 5.8571 - acc: 0.5900 - val_loss: 78.3221 - val_mean_absolute_error: 6.8588 - val_acc: 0.5849\n",
            "Epoch 15/50\n",
            "4934/4934 [==============================] - 2s 437us/step - loss: 55.4894 - mean_absolute_error: 5.4954 - acc: 0.5991 - val_loss: 55.2925 - val_mean_absolute_error: 5.3831 - val_acc: 0.5560\n",
            "Epoch 16/50\n",
            "4934/4934 [==============================] - 2s 437us/step - loss: 48.4090 - mean_absolute_error: 5.1058 - acc: 0.6084 - val_loss: 50.1468 - val_mean_absolute_error: 5.1210 - val_acc: 0.6014\n",
            "Epoch 17/50\n",
            "4934/4934 [==============================] - 2s 436us/step - loss: 45.3892 - mean_absolute_error: 4.9130 - acc: 0.6076 - val_loss: 49.1773 - val_mean_absolute_error: 5.2383 - val_acc: 0.5948\n",
            "Epoch 18/50\n",
            "4934/4934 [==============================] - 2s 433us/step - loss: 42.4191 - mean_absolute_error: 4.7357 - acc: 0.6105 - val_loss: 47.6109 - val_mean_absolute_error: 5.1076 - val_acc: 0.5920\n",
            "Epoch 19/50\n",
            "4934/4934 [==============================] - 2s 431us/step - loss: 40.4609 - mean_absolute_error: 4.6350 - acc: 0.6155 - val_loss: 46.7887 - val_mean_absolute_error: 5.0946 - val_acc: 0.6047\n",
            "Epoch 20/50\n",
            "4934/4934 [==============================] - 2s 435us/step - loss: 38.9481 - mean_absolute_error: 4.5261 - acc: 0.6200 - val_loss: 46.8654 - val_mean_absolute_error: 5.0459 - val_acc: 0.6090\n",
            "Epoch 21/50\n",
            "4934/4934 [==============================] - 2s 436us/step - loss: 36.3675 - mean_absolute_error: 4.3367 - acc: 0.6200 - val_loss: 44.8290 - val_mean_absolute_error: 4.7938 - val_acc: 0.6061\n",
            "Epoch 22/50\n",
            "4934/4934 [==============================] - 2s 437us/step - loss: 41.9249 - mean_absolute_error: 4.7350 - acc: 0.6232 - val_loss: 44.9826 - val_mean_absolute_error: 4.8362 - val_acc: 0.6113\n",
            "Epoch 23/50\n",
            "4934/4934 [==============================] - 2s 436us/step - loss: 37.6319 - mean_absolute_error: 4.4398 - acc: 0.6202 - val_loss: 41.2376 - val_mean_absolute_error: 4.6199 - val_acc: 0.6270\n",
            "Epoch 24/50\n",
            "4934/4934 [==============================] - 2s 439us/step - loss: 34.1644 - mean_absolute_error: 4.2179 - acc: 0.6368 - val_loss: 47.6586 - val_mean_absolute_error: 4.9865 - val_acc: 0.6137\n",
            "Epoch 25/50\n",
            "4934/4934 [==============================] - 2s 432us/step - loss: 31.6657 - mean_absolute_error: 4.0428 - acc: 0.6360 - val_loss: 38.5128 - val_mean_absolute_error: 4.4485 - val_acc: 0.6236\n",
            "Epoch 26/50\n",
            "4934/4934 [==============================] - 2s 438us/step - loss: 28.2854 - mean_absolute_error: 3.7821 - acc: 0.6372 - val_loss: 37.4024 - val_mean_absolute_error: 4.3791 - val_acc: 0.6251\n",
            "Epoch 27/50\n",
            "4934/4934 [==============================] - 2s 437us/step - loss: 28.2454 - mean_absolute_error: 3.8083 - acc: 0.6455 - val_loss: 53.3454 - val_mean_absolute_error: 5.5753 - val_acc: 0.6322\n",
            "Epoch 28/50\n",
            "4934/4934 [==============================] - 2s 432us/step - loss: 32.4414 - mean_absolute_error: 4.1471 - acc: 0.6403 - val_loss: 41.9801 - val_mean_absolute_error: 4.8320 - val_acc: 0.6217\n",
            "Epoch 29/50\n",
            "4934/4934 [==============================] - 2s 435us/step - loss: 24.6473 - mean_absolute_error: 3.5228 - acc: 0.6461 - val_loss: 35.5449 - val_mean_absolute_error: 4.2555 - val_acc: 0.6350\n",
            "Epoch 30/50\n",
            "4934/4934 [==============================] - 2s 438us/step - loss: 22.2489 - mean_absolute_error: 3.3205 - acc: 0.6520 - val_loss: 41.2387 - val_mean_absolute_error: 4.7644 - val_acc: 0.6251\n",
            "Epoch 31/50\n",
            "4934/4934 [==============================] - 2s 436us/step - loss: 22.4456 - mean_absolute_error: 3.3683 - acc: 0.6463 - val_loss: 37.1428 - val_mean_absolute_error: 4.4728 - val_acc: 0.6312\n",
            "Epoch 32/50\n",
            "4934/4934 [==============================] - 2s 438us/step - loss: 21.2338 - mean_absolute_error: 3.2770 - acc: 0.6544 - val_loss: 46.4051 - val_mean_absolute_error: 5.1461 - val_acc: 0.6265\n",
            "Epoch 33/50\n",
            "4934/4934 [==============================] - 2s 433us/step - loss: 20.3390 - mean_absolute_error: 3.2048 - acc: 0.6530 - val_loss: 34.5196 - val_mean_absolute_error: 4.1721 - val_acc: 0.6331\n",
            "Epoch 34/50\n",
            "4934/4934 [==============================] - 2s 438us/step - loss: 22.2779 - mean_absolute_error: 3.4256 - acc: 0.6534 - val_loss: 38.0654 - val_mean_absolute_error: 4.4625 - val_acc: 0.6312\n",
            "Epoch 35/50\n",
            "4934/4934 [==============================] - 2s 438us/step - loss: 23.7062 - mean_absolute_error: 3.5485 - acc: 0.6557 - val_loss: 45.1499 - val_mean_absolute_error: 5.0253 - val_acc: 0.6298\n",
            "Epoch 36/50\n",
            "4934/4934 [==============================] - 2s 434us/step - loss: 19.0172 - mean_absolute_error: 3.1144 - acc: 0.6536 - val_loss: 32.7657 - val_mean_absolute_error: 4.0550 - val_acc: 0.6340\n",
            "Epoch 37/50\n",
            "4934/4934 [==============================] - 2s 434us/step - loss: 16.9368 - mean_absolute_error: 2.9148 - acc: 0.6587 - val_loss: 31.1455 - val_mean_absolute_error: 3.9842 - val_acc: 0.6317\n",
            "Epoch 38/50\n",
            "4934/4934 [==============================] - 2s 437us/step - loss: 15.0709 - mean_absolute_error: 2.7126 - acc: 0.6603 - val_loss: 31.6357 - val_mean_absolute_error: 4.0050 - val_acc: 0.6359\n",
            "Epoch 39/50\n",
            "4934/4934 [==============================] - 2s 436us/step - loss: 13.8282 - mean_absolute_error: 2.5908 - acc: 0.6611 - val_loss: 30.7660 - val_mean_absolute_error: 3.9420 - val_acc: 0.6331\n",
            "Epoch 40/50\n",
            "4934/4934 [==============================] - 2s 436us/step - loss: 13.3573 - mean_absolute_error: 2.5604 - acc: 0.6615 - val_loss: 31.1292 - val_mean_absolute_error: 4.0001 - val_acc: 0.6355\n",
            "Epoch 41/50\n",
            "4934/4934 [==============================] - 2s 436us/step - loss: 14.6740 - mean_absolute_error: 2.7359 - acc: 0.6613 - val_loss: 33.5059 - val_mean_absolute_error: 4.1860 - val_acc: 0.6336\n",
            "Epoch 42/50\n",
            "4934/4934 [==============================] - 2s 433us/step - loss: 13.0995 - mean_absolute_error: 2.5625 - acc: 0.6605 - val_loss: 31.1784 - val_mean_absolute_error: 3.9873 - val_acc: 0.6359\n",
            "Epoch 43/50\n",
            "4934/4934 [==============================] - 2s 439us/step - loss: 12.1381 - mean_absolute_error: 2.4513 - acc: 0.6646 - val_loss: 41.2643 - val_mean_absolute_error: 4.7890 - val_acc: 0.6421\n",
            "Epoch 44/50\n",
            "4934/4934 [==============================] - 2s 438us/step - loss: 19.5495 - mean_absolute_error: 3.2843 - acc: 0.6666 - val_loss: 31.7238 - val_mean_absolute_error: 4.0227 - val_acc: 0.6388\n",
            "Epoch 45/50\n",
            "4934/4934 [==============================] - 2s 437us/step - loss: 11.8197 - mean_absolute_error: 2.3984 - acc: 0.6644 - val_loss: 27.9447 - val_mean_absolute_error: 3.7431 - val_acc: 0.6449\n",
            "Epoch 46/50\n",
            "4934/4934 [==============================] - 2s 438us/step - loss: 10.9275 - mean_absolute_error: 2.3115 - acc: 0.6729 - val_loss: 28.0482 - val_mean_absolute_error: 3.7601 - val_acc: 0.6355\n",
            "Epoch 47/50\n",
            "4934/4934 [==============================] - 2s 437us/step - loss: 10.4168 - mean_absolute_error: 2.2516 - acc: 0.6745 - val_loss: 27.5185 - val_mean_absolute_error: 3.7347 - val_acc: 0.6421\n",
            "Epoch 48/50\n",
            "4934/4934 [==============================] - 2s 438us/step - loss: 9.1718 - mean_absolute_error: 2.0794 - acc: 0.6759 - val_loss: 27.7202 - val_mean_absolute_error: 3.7385 - val_acc: 0.6501\n",
            "Epoch 49/50\n",
            "4934/4934 [==============================] - 2s 436us/step - loss: 8.7179 - mean_absolute_error: 2.0268 - acc: 0.6771 - val_loss: 27.3101 - val_mean_absolute_error: 3.7006 - val_acc: 0.6525\n",
            "Epoch 50/50\n",
            "4934/4934 [==============================] - 2s 437us/step - loss: 9.0494 - mean_absolute_error: 2.0881 - acc: 0.6812 - val_loss: 26.4147 - val_mean_absolute_error: 3.6195 - val_acc: 0.6407\n"
          ],
          "name": "stdout"
        }
      ]
    },
    {
      "cell_type": "code",
      "metadata": {
        "id": "Z0ZdjsaxGK1H",
        "colab_type": "code",
        "colab": {}
      },
      "source": [
        "#Save the model \n",
        "model.save('F1.h5')"
      ],
      "execution_count": 0,
      "outputs": []
    },
    {
      "cell_type": "code",
      "metadata": {
        "id": "sNJe5Hmc7ZXS",
        "colab_type": "code",
        "colab": {}
      },
      "source": [
        "from tensorflow.keras.models import load_model"
      ],
      "execution_count": 0,
      "outputs": []
    },
    {
      "cell_type": "code",
      "metadata": {
        "id": "MsNqUMBj7ZTq",
        "colab_type": "code",
        "outputId": "c1475fec-aa57-4edf-dc65-a7c33f4a4e0d",
        "colab": {
          "base_uri": "https://localhost:8080/",
          "height": 88
        }
      },
      "source": [
        "#load the model\n",
        "model = load_model('F1.h5')"
      ],
      "execution_count": 0,
      "outputs": [
        {
          "output_type": "stream",
          "text": [
            "WARNING:tensorflow:From /usr/local/lib/python3.6/dist-packages/tensorflow/python/keras/utils/losses_utils.py:170: to_float (from tensorflow.python.ops.math_ops) is deprecated and will be removed in a future version.\n",
            "Instructions for updating:\n",
            "Use tf.cast instead.\n"
          ],
          "name": "stdout"
        }
      ]
    },
    {
      "cell_type": "markdown",
      "metadata": {
        "id": "hZtZlIPoz0cM",
        "colab_type": "text"
      },
      "source": [
        "### Visualization of the loss for both train and test data"
      ]
    },
    {
      "cell_type": "code",
      "metadata": {
        "id": "Y2RgYKhYy9bJ",
        "colab_type": "code",
        "colab": {}
      },
      "source": [
        "def show_results(*logs):\n",
        "    trn_loss, val_loss, trn_acc, val_acc = [], [], [], []\n",
        "    \n",
        "    for model_1 in logs:\n",
        "        trn_loss += model_1.history['loss']\n",
        "        val_loss += model_1.history['val_loss']\n",
        "    \n",
        "    fig, ax = plt.subplots(figsize=(8,4))\n",
        "    ax.plot(trn_loss, label='train')\n",
        "    ax.plot(val_loss, label='validation')\n",
        "    ax.set_xlabel('epoch'); ax.set_ylabel('loss')\n",
        "    ax.legend()"
      ],
      "execution_count": 0,
      "outputs": []
    },
    {
      "cell_type": "code",
      "metadata": {
        "id": "Husv5CVozArO",
        "colab_type": "code",
        "outputId": "bb851df9-06ee-4591-90bf-16c0bea9ebbb",
        "colab": {
          "base_uri": "https://localhost:8080/",
          "height": 283
        }
      },
      "source": [
        "show_results(model_1)"
      ],
      "execution_count": 0,
      "outputs": [
        {
          "output_type": "display_data",
          "data": {
            "image/png": "[encoded data removed]",
            "text/plain": [
              "<Figure size 576x288 with 1 Axes>"
            ]
          },
          "metadata": {
            "tags": []
          }
        }
      ]
    },
    {
      "cell_type": "code",
      "metadata": {
        "id": "AwvPsGXx7ZRs",
        "colab_type": "code",
        "outputId": "98e9134c-45e4-4be1-87da-2be156e488ae",
        "colab": {
          "base_uri": "https://localhost:8080/",
          "height": 238
        }
      },
      "source": [
        "#predicting the test data\n",
        "model.predict(x_test)\n",
        "#Here output obtained is a array with 30 keypoints which is our required one"
      ],
      "execution_count": 0,
      "outputs": [
        {
          "output_type": "execute_result",
          "data": {
            "text/plain": [
              "array([[65.39583 , 36.56697 , 29.550743, ..., 70.49639 , 47.35831 ,\n",
              "        75.82839 ],\n",
              "       [62.91925 , 35.83468 , 29.325356, ..., 69.76133 , 47.603523,\n",
              "        72.841965],\n",
              "       [64.2068  , 38.134457, 31.786701, ..., 73.033455, 47.663746,\n",
              "        75.76198 ],\n",
              "       ...,\n",
              "       [80.634766, 44.04141 , 36.568516, ..., 85.73562 , 57.638805,\n",
              "        91.85355 ],\n",
              "       [64.58789 , 35.94713 , 30.517815, ..., 71.80325 , 50.999306,\n",
              "        74.65568 ],\n",
              "       [63.881573, 34.772156, 27.343895, ..., 65.85303 , 45.253777,\n",
              "        74.4699  ]], dtype=float32)"
            ]
          },
          "metadata": {
            "tags": []
          },
          "execution_count": 33
        }
      ]
    },
    {
      "cell_type": "code",
      "metadata": {
        "id": "-xNddD1p8QtN",
        "colab_type": "code",
        "colab": {}
      },
      "source": [
        "#defining to a variable\n",
        "a = model.predict(x_test)"
      ],
      "execution_count": 0,
      "outputs": []
    },
    {
      "cell_type": "code",
      "metadata": {
        "id": "wM5PE2zg8Qoy",
        "colab_type": "code",
        "outputId": "1c9c3059-c60f-4a25-bb35-081709b21bc1",
        "colab": {
          "base_uri": "https://localhost:8080/",
          "height": 34
        }
      },
      "source": [
        "a.shape"
      ],
      "execution_count": 0,
      "outputs": [
        {
          "output_type": "execute_result",
          "data": {
            "text/plain": [
              "(2115, 30)"
            ]
          },
          "metadata": {
            "tags": []
          },
          "execution_count": 35
        }
      ]
    },
    {
      "cell_type": "markdown",
      "metadata": {
        "id": "kAu-SuC0s0Xg",
        "colab_type": "text"
      },
      "source": [
        "## Displaying the output with test data images"
      ]
    },
    {
      "cell_type": "code",
      "metadata": {
        "id": "zY4ttG0n9kn7",
        "colab_type": "code",
        "outputId": "963987a6-ccbd-4015-983b-1f8c4d41c5cf",
        "colab": {
          "base_uri": "https://localhost:8080/",
          "height": 34
        }
      },
      "source": [
        "#Doing the preprocessing as we done before\n",
        "df = pd.DataFrame(a)\n",
        "df.columns\n"
      ],
      "execution_count": 0,
      "outputs": [
        {
          "output_type": "execute_result",
          "data": {
            "text/plain": [
              "RangeIndex(start=0, stop=30, step=1)"
            ]
          },
          "metadata": {
            "tags": []
          },
          "execution_count": 36
        }
      ]
    },
    {
      "cell_type": "code",
      "metadata": {
        "id": "lbnrgktG-UMy",
        "colab_type": "code",
        "outputId": "f958b2f7-31c9-4d56-fb36-0ec08807eaeb",
        "colab": {
          "base_uri": "https://localhost:8080/",
          "height": 272
        }
      },
      "source": [
        "df.columns= list((data.drop(columns=['Image'],axis=1)).columns)\n",
        "df.columns\n"
      ],
      "execution_count": 0,
      "outputs": [
        {
          "output_type": "execute_result",
          "data": {
            "text/plain": [
              "Index(['left_eye_center_x', 'left_eye_center_y', 'right_eye_center_x',\n",
              "       'right_eye_center_y', 'left_eye_inner_corner_x',\n",
              "       'left_eye_inner_corner_y', 'left_eye_outer_corner_x',\n",
              "       'left_eye_outer_corner_y', 'right_eye_inner_corner_x',\n",
              "       'right_eye_inner_corner_y', 'right_eye_outer_corner_x',\n",
              "       'right_eye_outer_corner_y', 'left_eyebrow_inner_end_x',\n",
              "       'left_eyebrow_inner_end_y', 'left_eyebrow_outer_end_x',\n",
              "       'left_eyebrow_outer_end_y', 'right_eyebrow_inner_end_x',\n",
              "       'right_eyebrow_inner_end_y', 'right_eyebrow_outer_end_x',\n",
              "       'right_eyebrow_outer_end_y', 'nose_tip_x', 'nose_tip_y',\n",
              "       'mouth_left_corner_x', 'mouth_left_corner_y', 'mouth_right_corner_x',\n",
              "       'mouth_right_corner_y', 'mouth_center_top_lip_x',\n",
              "       'mouth_center_top_lip_y', 'mouth_center_bottom_lip_x',\n",
              "       'mouth_center_bottom_lip_y'],\n",
              "      dtype='object')"
            ]
          },
          "metadata": {
            "tags": []
          },
          "execution_count": 37
        }
      ]
    },
    {
      "cell_type": "code",
      "metadata": {
        "id": "vBuicdE-8Qmo",
        "colab_type": "code",
        "colab": {}
      },
      "source": [
        "a_1 = list(df.columns)[0::2] # x_axis columns // sclycing alternate columns\n",
        "a_2 = list(df.columns)[1::2]"
      ],
      "execution_count": 0,
      "outputs": []
    },
    {
      "cell_type": "code",
      "metadata": {
        "id": "wbgoTJPVDOm3",
        "colab_type": "code",
        "outputId": "6798d30e-4be5-4b97-a9f4-8107e3f6e622",
        "colab": {
          "base_uri": "https://localhost:8080/",
          "height": 272
        }
      },
      "source": [
        "a_2"
      ],
      "execution_count": 0,
      "outputs": [
        {
          "output_type": "execute_result",
          "data": {
            "text/plain": [
              "['left_eye_center_y',\n",
              " 'right_eye_center_y',\n",
              " 'left_eye_inner_corner_y',\n",
              " 'left_eye_outer_corner_y',\n",
              " 'right_eye_inner_corner_y',\n",
              " 'right_eye_outer_corner_y',\n",
              " 'left_eyebrow_inner_end_y',\n",
              " 'left_eyebrow_outer_end_y',\n",
              " 'right_eyebrow_inner_end_y',\n",
              " 'right_eyebrow_outer_end_y',\n",
              " 'nose_tip_y',\n",
              " 'mouth_left_corner_y',\n",
              " 'mouth_right_corner_y',\n",
              " 'mouth_center_top_lip_y',\n",
              " 'mouth_center_bottom_lip_y']"
            ]
          },
          "metadata": {
            "tags": []
          },
          "execution_count": 39
        }
      ]
    },
    {
      "cell_type": "code",
      "metadata": {
        "id": "MENHzr1gA7Pe",
        "colab_type": "code",
        "outputId": "ba4bf59e-2012-451c-c4c0-2f35af93a30d",
        "colab": {
          "base_uri": "https://localhost:8080/",
          "height": 5236
        }
      },
      "source": [
        "x_test"
      ],
      "execution_count": 0,
      "outputs": [
        {
          "output_type": "execute_result",
          "data": {
            "text/plain": [
              "array([[[[100.],\n",
              "         [ 99.],\n",
              "         [ 94.],\n",
              "         ...,\n",
              "         [155.],\n",
              "         [158.],\n",
              "         [159.]],\n",
              "\n",
              "        [[100.],\n",
              "         [ 99.],\n",
              "         [ 94.],\n",
              "         ...,\n",
              "         [155.],\n",
              "         [158.],\n",
              "         [159.]],\n",
              "\n",
              "        [[100.],\n",
              "         [ 99.],\n",
              "         [ 95.],\n",
              "         ...,\n",
              "         [155.],\n",
              "         [158.],\n",
              "         [159.]],\n",
              "\n",
              "        ...,\n",
              "\n",
              "        [[ 47.],\n",
              "         [ 47.],\n",
              "         [ 44.],\n",
              "         ...,\n",
              "         [ 92.],\n",
              "         [ 94.],\n",
              "         [ 94.]],\n",
              "\n",
              "        [[ 40.],\n",
              "         [ 40.],\n",
              "         [ 40.],\n",
              "         ...,\n",
              "         [ 90.],\n",
              "         [ 93.],\n",
              "         [ 94.]],\n",
              "\n",
              "        [[ 39.],\n",
              "         [ 39.],\n",
              "         [ 39.],\n",
              "         ...,\n",
              "         [ 90.],\n",
              "         [ 93.],\n",
              "         [ 94.]]],\n",
              "\n",
              "\n",
              "       [[[121.],\n",
              "         [131.],\n",
              "         [139.],\n",
              "         ...,\n",
              "         [ 96.],\n",
              "         [ 90.],\n",
              "         [ 90.]],\n",
              "\n",
              "        [[133.],\n",
              "         [141.],\n",
              "         [141.],\n",
              "         ...,\n",
              "         [103.],\n",
              "         [100.],\n",
              "         [106.]],\n",
              "\n",
              "        [[133.],\n",
              "         [148.],\n",
              "         [153.],\n",
              "         ...,\n",
              "         [ 96.],\n",
              "         [102.],\n",
              "         [111.]],\n",
              "\n",
              "        ...,\n",
              "\n",
              "        [[ 90.],\n",
              "         [ 94.],\n",
              "         [ 80.],\n",
              "         ...,\n",
              "         [109.],\n",
              "         [102.],\n",
              "         [ 89.]],\n",
              "\n",
              "        [[ 56.],\n",
              "         [ 52.],\n",
              "         [ 53.],\n",
              "         ...,\n",
              "         [ 89.],\n",
              "         [ 97.],\n",
              "         [ 84.]],\n",
              "\n",
              "        [[ 67.],\n",
              "         [ 59.],\n",
              "         [ 69.],\n",
              "         ...,\n",
              "         [ 86.],\n",
              "         [ 93.],\n",
              "         [ 81.]]],\n",
              "\n",
              "\n",
              "       [[[ 61.],\n",
              "         [ 63.],\n",
              "         [ 68.],\n",
              "         ...,\n",
              "         [ 47.],\n",
              "         [ 37.],\n",
              "         [ 33.]],\n",
              "\n",
              "        [[ 56.],\n",
              "         [ 59.],\n",
              "         [ 66.],\n",
              "         ...,\n",
              "         [ 49.],\n",
              "         [ 38.],\n",
              "         [ 34.]],\n",
              "\n",
              "        [[ 42.],\n",
              "         [ 48.],\n",
              "         [ 62.],\n",
              "         ...,\n",
              "         [ 54.],\n",
              "         [ 41.],\n",
              "         [ 37.]],\n",
              "\n",
              "        ...,\n",
              "\n",
              "        [[ 60.],\n",
              "         [ 49.],\n",
              "         [ 20.],\n",
              "         ...,\n",
              "         [ 47.],\n",
              "         [ 54.],\n",
              "         [ 56.]],\n",
              "\n",
              "        [[ 49.],\n",
              "         [ 40.],\n",
              "         [ 19.],\n",
              "         ...,\n",
              "         [ 46.],\n",
              "         [ 53.],\n",
              "         [ 56.]],\n",
              "\n",
              "        [[ 44.],\n",
              "         [ 37.],\n",
              "         [ 18.],\n",
              "         ...,\n",
              "         [ 46.],\n",
              "         [ 53.],\n",
              "         [ 56.]]],\n",
              "\n",
              "\n",
              "       ...,\n",
              "\n",
              "\n",
              "       [[[ 70.],\n",
              "         [ 62.],\n",
              "         [ 49.],\n",
              "         ...,\n",
              "         [ 78.],\n",
              "         [ 77.],\n",
              "         [ 75.]],\n",
              "\n",
              "        [[ 66.],\n",
              "         [ 56.],\n",
              "         [ 61.],\n",
              "         ...,\n",
              "         [ 67.],\n",
              "         [ 75.],\n",
              "         [ 76.]],\n",
              "\n",
              "        [[ 66.],\n",
              "         [ 57.],\n",
              "         [ 60.],\n",
              "         ...,\n",
              "         [ 66.],\n",
              "         [ 81.],\n",
              "         [ 82.]],\n",
              "\n",
              "        ...,\n",
              "\n",
              "        [[111.],\n",
              "         [134.],\n",
              "         [128.],\n",
              "         ...,\n",
              "         [ 10.],\n",
              "         [ 14.],\n",
              "         [ 21.]],\n",
              "\n",
              "        [[123.],\n",
              "         [133.],\n",
              "         [120.],\n",
              "         ...,\n",
              "         [  9.],\n",
              "         [ 11.],\n",
              "         [ 15.]],\n",
              "\n",
              "        [[135.],\n",
              "         [143.],\n",
              "         [112.],\n",
              "         ...,\n",
              "         [  9.],\n",
              "         [ 10.],\n",
              "         [ 10.]]],\n",
              "\n",
              "\n",
              "       [[[ 14.],\n",
              "         [ 13.],\n",
              "         [ 12.],\n",
              "         ...,\n",
              "         [ 72.],\n",
              "         [ 72.],\n",
              "         [ 72.]],\n",
              "\n",
              "        [[ 14.],\n",
              "         [ 13.],\n",
              "         [ 11.],\n",
              "         ...,\n",
              "         [ 72.],\n",
              "         [ 72.],\n",
              "         [ 72.]],\n",
              "\n",
              "        [[ 15.],\n",
              "         [ 13.],\n",
              "         [  9.],\n",
              "         ...,\n",
              "         [ 72.],\n",
              "         [ 72.],\n",
              "         [ 72.]],\n",
              "\n",
              "        ...,\n",
              "\n",
              "        [[ 93.],\n",
              "         [ 84.],\n",
              "         [ 66.],\n",
              "         ...,\n",
              "         [208.],\n",
              "         [199.],\n",
              "         [194.]],\n",
              "\n",
              "        [[ 90.],\n",
              "         [ 85.],\n",
              "         [ 73.],\n",
              "         ...,\n",
              "         [205.],\n",
              "         [197.],\n",
              "         [193.]],\n",
              "\n",
              "        [[ 89.],\n",
              "         [ 85.],\n",
              "         [ 76.],\n",
              "         ...,\n",
              "         [203.],\n",
              "         [196.],\n",
              "         [193.]]],\n",
              "\n",
              "\n",
              "       [[[ 62.],\n",
              "         [ 62.],\n",
              "         [ 64.],\n",
              "         ...,\n",
              "         [144.],\n",
              "         [199.],\n",
              "         [223.]],\n",
              "\n",
              "        [[ 59.],\n",
              "         [ 57.],\n",
              "         [ 55.],\n",
              "         ...,\n",
              "         [150.],\n",
              "         [178.],\n",
              "         [214.]],\n",
              "\n",
              "        [[ 56.],\n",
              "         [ 56.],\n",
              "         [ 55.],\n",
              "         ...,\n",
              "         [157.],\n",
              "         [180.],\n",
              "         [203.]],\n",
              "\n",
              "        ...,\n",
              "\n",
              "        [[ 73.],\n",
              "         [ 62.],\n",
              "         [ 57.],\n",
              "         ...,\n",
              "         [192.],\n",
              "         [186.],\n",
              "         [190.]],\n",
              "\n",
              "        [[ 78.],\n",
              "         [ 65.],\n",
              "         [ 56.],\n",
              "         ...,\n",
              "         [191.],\n",
              "         [188.],\n",
              "         [190.]],\n",
              "\n",
              "        [[ 77.],\n",
              "         [ 67.],\n",
              "         [ 62.],\n",
              "         ...,\n",
              "         [188.],\n",
              "         [189.],\n",
              "         [186.]]]])"
            ]
          },
          "metadata": {
            "tags": []
          },
          "execution_count": 40
        }
      ]
    },
    {
      "cell_type": "code",
      "metadata": {
        "id": "XFCsQC1K-78S",
        "colab_type": "code",
        "outputId": "b141c729-0d53-4110-d957-38d5b6a6dc6e",
        "colab": {
          "base_uri": "https://localhost:8080/",
          "height": 34
        }
      },
      "source": [
        "x_tes = x_test.reshape(-1,96,96)\n",
        "x_tes.shape"
      ],
      "execution_count": 0,
      "outputs": [
        {
          "output_type": "execute_result",
          "data": {
            "text/plain": [
              "(2115, 96, 96)"
            ]
          },
          "metadata": {
            "tags": []
          },
          "execution_count": 41
        }
      ]
    },
    {
      "cell_type": "code",
      "metadata": {
        "id": "e_EUA_QV8QiD",
        "colab_type": "code",
        "outputId": "bee96ae3-05e5-4371-f7a7-41e8b0143475",
        "colab": {
          "base_uri": "https://localhost:8080/",
          "height": 339
        }
      },
      "source": [
        "# Applying the modelsaved on to  the images in the test data \n",
        "#Displaying the image with key points\n",
        "plt.figure(figsize=(5,5))\n",
        "plt.imshow(x_tes[2],'gray')\n",
        "plt.plot((df[a_1].T[0]),(df[a_2].T[0]),'*',color='red')\n",
        "plt.axis('off')"
      ],
      "execution_count": 0,
      "outputs": [
        {
          "output_type": "execute_result",
          "data": {
            "text/plain": [
              "(-0.5, 95.5, 95.5, -0.5)"
            ]
          },
          "metadata": {
            "tags": []
          },
          "execution_count": 42
        },
        {
          "output_type": "display_data",
          "data": {
            "image/png": "[encoded data removed]",
            "text/plain": [
              "<Figure size 360x360 with 1 Axes>"
            ]
          },
          "metadata": {
            "tags": []
          }
        }
      ]
    },
    {
      "cell_type": "markdown",
      "metadata": {
        "id": "VNDcw68ZtRb_",
        "colab_type": "text"
      },
      "source": [
        "## Testing the model with new image downloaded"
      ]
    },
    {
      "cell_type": "code",
      "metadata": {
        "id": "aYYYBEvaAhFm",
        "colab_type": "code",
        "outputId": "d8d75f49-8412-43b9-f9b8-2e218432c974",
        "colab": {
          "base_uri": "https://localhost:8080/",
          "height": 286
        }
      },
      "source": [
        "#Using opencv to read the image\n",
        "import cv2\n",
        "img =cv2.imread('test.jpg',0)#read the image\n",
        "plt.imshow(img)\n"
      ],
      "execution_count": 0,
      "outputs": [
        {
          "output_type": "execute_result",
          "data": {
            "text/plain": [
              "<matplotlib.image.AxesImage at 0x7f0de3d72e48>"
            ]
          },
          "metadata": {
            "tags": []
          },
          "execution_count": 43
        },
        {
          "output_type": "display_data",
          "data": {
            "image/png": "[encoded data removed]",
            "text/plain": [
              "<Figure size 432x288 with 1 Axes>"
            ]
          },
          "metadata": {
            "tags": []
          }
        }
      ]
    },
    {
      "cell_type": "markdown",
      "metadata": {
        "id": "_oTt9ULqtsWQ",
        "colab_type": "text"
      },
      "source": [
        "### Preprocessing the data of image"
      ]
    },
    {
      "cell_type": "code",
      "metadata": {
        "id": "IzB1TRIUrwOI",
        "colab_type": "code",
        "outputId": "ad87b944-7f7e-44c2-ced8-5a4124724aba",
        "colab": {
          "base_uri": "https://localhost:8080/",
          "height": 34
        }
      },
      "source": [
        "image = np.array(img,dtype = 'float')\n",
        "image.shape"
      ],
      "execution_count": 0,
      "outputs": [
        {
          "output_type": "execute_result",
          "data": {
            "text/plain": [
              "(225, 225)"
            ]
          },
          "metadata": {
            "tags": []
          },
          "execution_count": 44
        }
      ]
    },
    {
      "cell_type": "code",
      "metadata": {
        "id": "_NVNFuqhsblK",
        "colab_type": "code",
        "colab": {}
      },
      "source": [
        "imm = cv2.resize(image,(96,96))\n"
      ],
      "execution_count": 0,
      "outputs": []
    },
    {
      "cell_type": "code",
      "metadata": {
        "id": "gOwsz9a37MBR",
        "colab_type": "code",
        "outputId": "ccb365df-3782-4b75-eefe-72475e50403c",
        "colab": {
          "base_uri": "https://localhost:8080/",
          "height": 34
        }
      },
      "source": [
        "ig = imm.reshape(-1,96,96)\n",
        "ig.shape"
      ],
      "execution_count": 0,
      "outputs": [
        {
          "output_type": "execute_result",
          "data": {
            "text/plain": [
              "(1, 96, 96)"
            ]
          },
          "metadata": {
            "tags": []
          },
          "execution_count": 46
        }
      ]
    },
    {
      "cell_type": "markdown",
      "metadata": {
        "id": "F4hRAf79t0Lh",
        "colab_type": "text"
      },
      "source": [
        "### Applying the model saved "
      ]
    },
    {
      "cell_type": "code",
      "metadata": {
        "id": "XBNbAOsovPdu",
        "colab_type": "code",
        "outputId": "f025b046-bf86-41b2-e50d-cc253bbcca39",
        "colab": {
          "base_uri": "https://localhost:8080/",
          "height": 177
        }
      },
      "source": [
        "#Displaying the keypoints in the new image \n",
        "plt.figure(figsize=(2,2))\n",
        "plt.imshow(ig[0])\n",
        "plt.plot((df[a_1].T[0]),(df[a_2].T[0]),'*',color='red')\n",
        "plt.axis('off')"
      ],
      "execution_count": 0,
      "outputs": [
        {
          "output_type": "execute_result",
          "data": {
            "text/plain": [
              "(-0.5, 95.5, 95.5, -0.5)"
            ]
          },
          "metadata": {
            "tags": []
          },
          "execution_count": 47
        },
        {
          "output_type": "display_data",
          "data": {
            "image/png": "[encoded data removed]",
            "text/plain": [
              "<Figure size 144x144 with 1 Axes>"
            ]
          },
          "metadata": {
            "tags": []
          }
        }
      ]
    }
  ]
}